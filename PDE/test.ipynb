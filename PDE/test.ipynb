{
 "cells": [
  {
   "cell_type": "code",
   "execution_count": null,
   "metadata": {},
   "outputs": [],
   "source": []
  },
  {
   "cell_type": "markdown",
   "metadata": {},
   "source": [
    "$$\n",
    "\\phi_{i,j} = \\frac{1}{4}(\\phi_{i-2,j} + \\phi_{i+2,j} + \\phi_{i,j-2} + \\phi_{i,j+2})\\\\\n",
    "i=0,...,n-1, j=0,...,m-1\n",
    "$$"
   ]
  },
  {
   "cell_type": "markdown",
   "metadata": {},
   "source": [
    "$$\n",
    "\n",
    "\\mathbf{A}\\mathbf{x} = \\mathbf{b}\\\\\n",
    "\\mathbf{x}, \\mathbf{b}:nm次元ベクトル, \\mathbf{A}:nm*nmの行列\n",
    "$$"
   ]
  },
  {
   "cell_type": "markdown",
   "metadata": {},
   "source": [
    "$$\n",
    "(i,j) -> i + nj \\\\\n",
    "なので\\\\\n",
    "x_{i+nj-2n}+ x_{i+nj-2} - 4x_{i+nj} + x_{i+nj+2} + x_{i+nj+2n} = 0\\\\\n",
    "$$"
   ]
  },
  {
   "cell_type": "markdown",
   "metadata": {},
   "source": [
    "$$\n",
    "when \\\\\n",
    "n = 6, m = 6, \\\\\n",
    "x_{2} + x_{12} - 4x_{14} + x_{16} + x_{26} = 0\\\\\n",
    "x_{}\n",
    "\n",
    "$$"
   ]
  },
  {
   "cell_type": "code",
   "execution_count": 3,
   "metadata": {},
   "outputs": [],
   "source": [
    "import sympy as sy"
   ]
  },
  {
   "cell_type": "code",
   "execution_count": 29,
   "metadata": {},
   "outputs": [
    {
     "name": "stdout",
     "output_type": "stream",
     "text": [
      "Eq(x[2, 0] + x[20, 0] - 4*x[22, 0] + x[24, 0] + x[42, 0], 0)\n",
      "Eq(x[3, 0] + x[21, 0] - 4*x[23, 0] + x[25, 0] + x[43, 0], 0)\n",
      "Eq(x[4, 0] + x[22, 0] - 4*x[24, 0] + x[26, 0] + x[44, 0], 0)\n",
      "Eq(x[5, 0] + x[23, 0] - 4*x[25, 0] + x[27, 0] + x[45, 0], 0)\n",
      "Eq(x[6, 0] + x[24, 0] - 4*x[26, 0] + x[28, 0] + x[46, 0], 0)\n",
      "Eq(x[7, 0] + x[25, 0] - 4*x[27, 0] + x[29, 0] + x[47, 0], 0)\n",
      "Eq(x[12, 0] + x[30, 0] - 4*x[32, 0] + x[34, 0] + x[52, 0], 0)\n",
      "Eq(x[13, 0] + x[31, 0] - 4*x[33, 0] + x[35, 0] + x[53, 0], 0)\n",
      "Eq(x[14, 0] + x[32, 0] - 4*x[34, 0] + x[36, 0] + x[54, 0], 0)\n",
      "Eq(x[15, 0] + x[33, 0] - 4*x[35, 0] + x[37, 0] + x[55, 0], 0)\n",
      "Eq(x[16, 0] + x[34, 0] - 4*x[36, 0] + x[38, 0] + x[56, 0], 0)\n",
      "Eq(x[17, 0] + x[35, 0] - 4*x[37, 0] + x[39, 0] + x[57, 0], 0)\n",
      "Eq(x[22, 0] + x[40, 0] - 4*x[42, 0] + x[44, 0] + x[62, 0], 0)\n",
      "Eq(x[23, 0] + x[41, 0] - 4*x[43, 0] + x[45, 0] + x[63, 0], 0)\n",
      "Eq(x[24, 0] + x[42, 0] - 4*x[44, 0] + x[46, 0] + x[64, 0], 0)\n",
      "Eq(x[25, 0] + x[43, 0] - 4*x[45, 0] + x[47, 0] + x[65, 0], 0)\n",
      "Eq(x[26, 0] + x[44, 0] - 4*x[46, 0] + x[48, 0] + x[66, 0], 0)\n",
      "Eq(x[27, 0] + x[45, 0] - 4*x[47, 0] + x[49, 0] + x[67, 0], 0)\n",
      "Eq(x[32, 0] + x[50, 0] - 4*x[52, 0] + x[54, 0] + x[72, 0], 0)\n",
      "Eq(x[33, 0] + x[51, 0] - 4*x[53, 0] + x[55, 0] + x[73, 0], 0)\n",
      "Eq(x[34, 0] + x[52, 0] - 4*x[54, 0] + x[56, 0] + x[74, 0], 0)\n",
      "Eq(x[35, 0] + x[53, 0] - 4*x[55, 0] + x[57, 0] + x[75, 0], 0)\n",
      "Eq(x[36, 0] + x[54, 0] - 4*x[56, 0] + x[58, 0] + x[76, 0], 0)\n",
      "Eq(x[37, 0] + x[55, 0] - 4*x[57, 0] + x[59, 0] + x[77, 0], 0)\n",
      "Eq(x[42, 0] + x[60, 0] - 4*x[62, 0] + x[64, 0] + x[82, 0], 0)\n",
      "Eq(x[43, 0] + x[61, 0] - 4*x[63, 0] + x[65, 0] + x[83, 0], 0)\n",
      "Eq(x[44, 0] + x[62, 0] - 4*x[64, 0] + x[66, 0] + x[84, 0], 0)\n",
      "Eq(x[45, 0] + x[63, 0] - 4*x[65, 0] + x[67, 0] + x[85, 0], 0)\n",
      "Eq(x[46, 0] + x[64, 0] - 4*x[66, 0] + x[68, 0] + x[86, 0], 0)\n",
      "Eq(x[47, 0] + x[65, 0] - 4*x[67, 0] + x[69, 0] + x[87, 0], 0)\n",
      "Eq(x[52, 0] + x[70, 0] - 4*x[72, 0] + x[74, 0] + x[92, 0], 0)\n",
      "Eq(x[53, 0] + x[71, 0] - 4*x[73, 0] + x[75, 0] + x[93, 0], 0)\n",
      "Eq(x[54, 0] + x[72, 0] - 4*x[74, 0] + x[76, 0] + x[94, 0], 0)\n",
      "Eq(x[55, 0] + x[73, 0] - 4*x[75, 0] + x[77, 0] + x[95, 0], 0)\n",
      "Eq(x[56, 0] + x[74, 0] - 4*x[76, 0] + x[78, 0] + x[96, 0], 0)\n",
      "Eq(x[57, 0] + x[75, 0] - 4*x[77, 0] + x[79, 0] + x[97, 0], 0)\n"
     ]
    }
   ],
   "source": [
    "N = 10; M = 10\n",
    "\n",
    "x = sy.MatrixSymbol('x', N*M, 1)\n",
    "\n",
    "eqs = []\n",
    "\n",
    "_c = 0\n",
    "for j in range(2, M-2):\n",
    "    for i in range(2, N-2):\n",
    "        eq = sy.Eq(\n",
    "                x[i+N*j-2*N, 0] + x[i+N*j-2, 0] - 4 * x[i+N*j,0] + x[i+N*j+2,0] + x[i+N*j+2*N],\n",
    "                0\n",
    "            )\n",
    "        eqs.append(eq)\n",
    "\n",
    "for e in eqs:\n",
    "    print(e)"
   ]
  },
  {
   "cell_type": "code",
   "execution_count": 28,
   "metadata": {},
   "outputs": [
    {
     "data": {
      "text/latex": [
       "$\\displaystyle x_{2, 0} + x_{20, 0} - 4 x_{22, 0} + x_{24, 0} + x_{42, 0} = 0$"
      ],
      "text/plain": [
       "Eq(x[2, 0] + x[20, 0] - 4*x[22, 0] + x[24, 0] + x[42, 0], 0)"
      ]
     },
     "execution_count": 28,
     "metadata": {},
     "output_type": "execute_result"
    }
   ],
   "source": [
    "eqs[0]"
   ]
  }
 ],
 "metadata": {
  "kernelspec": {
   "display_name": "Python 3",
   "language": "python",
   "name": "python3"
  },
  "language_info": {
   "codemirror_mode": {
    "name": "ipython",
    "version": 3
   },
   "file_extension": ".py",
   "mimetype": "text/x-python",
   "name": "python",
   "nbconvert_exporter": "python",
   "pygments_lexer": "ipython3",
   "version": "3.11.6"
  }
 },
 "nbformat": 4,
 "nbformat_minor": 2
}
