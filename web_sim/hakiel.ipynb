{
 "cells": [
  {
   "cell_type": "markdown",
   "metadata": {},
   "source": [
    "入門ウェブハンドリングp176\n",
    "\n",
    "$$\n",
    "\\sigma_r\n",
    "$$"
   ]
  },
  {
   "cell_type": "code",
   "execution_count": 18,
   "metadata": {},
   "outputs": [],
   "source": [
    "import numpy as np\n",
    "import matplotlib.pyplot as plt\n",
    "from scipy.integrate import solve_ivp\n",
    "from numba import njit"
   ]
  },
  {
   "cell_type": "code",
   "execution_count": 19,
   "metadata": {},
   "outputs": [],
   "source": [
    "\"\"\"パラメータ\"\"\"\n",
    "r_c = 50  # コア半径 [mm]\n",
    "r_cin = 40  # コア内径 [mm]\n",
    "e_cin = 1  # コアヤング率\n",
    "nu_c = 1\n",
    "\n",
    "N = 30000  # 巻数\n",
    "nu = 1  # 半径方向ポアソン比\n",
    "#T = 0.002  # シート厚み[mm]\n",
    "\n",
    "# ポリプロピレン\n",
    "K1 = 0.1e-3  # [GPa]\n",
    "K2 = 260.0e-3  # [GPa]\n",
    "dr = 25.4e-3 # ウェブ厚み[mm]\n",
    "E_THETA = 1.65  # 接線方向ヤング率[GPa]\n",
    "\n",
    "E_C = e_cin / (((r_c/r_cin)**2+1) / ((r_c/r_cin)**2-1) - nu_c)\n",
    "\n",
    "\n",
    "T = 100 # 一定巻取り張力[N]\n",
    "\n",
    "r = np.linspace(r_c, r_c+T*N, N)  # 半径リスト"
   ]
  },
  {
   "cell_type": "code",
   "execution_count": 23,
   "metadata": {},
   "outputs": [],
   "source": [
    "#@njit\n",
    "\n",
    "def Ai(r):\n",
    "    return 1 + (3-nu)*dr / (2*r)\n",
    "\n",
    "def Bi(r, g):\n",
    "    return (1 + nu - g**2) * (dr/r)**2 - 2\n",
    "\n",
    "def Ci(r):\n",
    "    return 1 - (3-nu)/2*dr/r\n",
    "\n",
    "\n",
    "def main():\n",
    "    sigma_r = np.zeros(N)\n",
    "    a = np.zeros(N)\n",
    "    b = np.zeros(N)\n",
    "    c = np.zeros(N)\n",
    "    g = np.zeros(N)\n",
    "    sigma_r_total = 0\n",
    "    \n",
    "    a = 1 + (3-nu) * dr / (2 * r)\n",
    "    c = 1 - (3-nu)/2 * dr/r\n",
    "    \n",
    "    for n in range(N):  #巻数ループ\n",
    "        if n == 0:\n",
    "            sigma_r[0] = -T / (r_c + 1*dr)\n",
    "        else:\n",
    "            for i in range(n):\n",
    "                if i == 0:\n",
    "                    A1 = 1\n",
    "                    B1 = (1 - E_THETA/E_C - nu)*dr/r_c - 1\n",
    "                    sigma_r[1] = -T / (r_c + i*dr)\n",
    "                    sigma_r[0] = A1 / B1 * -sigma_r[1]\n",
    "                else:\n",
    "                    # 係数g計算\n",
    "                    g = np.zeros(N)  # g初期化\n",
    "                    sigma_r_total = 0\n",
    "                    for j in range(i):\n",
    "                        sigma_r_total += sigma_r[j]\n",
    "                        E_r = K2 * (sigma_r_total + K1)\n",
    "                        g[j] = np.sqrt(E_THETA / E_r)\n",
    "                    \n",
    "                    A = np.zeros((i, i))\n",
    "                    b = np.zeros((i, 1))\n",
    "                    for j in range(i):\n",
    "                        A[j, j-1] = Ai(r[j])\n",
    "                        A[j, j] = Bi(r[j], g[j])\n",
    "                        A[j, j+1] = Ci(r[j])"
   ]
  }
 ],
 "metadata": {
  "kernelspec": {
   "display_name": "Python 3",
   "language": "python",
   "name": "python3"
  },
  "language_info": {
   "codemirror_mode": {
    "name": "ipython",
    "version": 3
   },
   "file_extension": ".py",
   "mimetype": "text/x-python",
   "name": "python",
   "nbconvert_exporter": "python",
   "pygments_lexer": "ipython3",
   "version": "3.11.6"
  }
 },
 "nbformat": 4,
 "nbformat_minor": 2
}
