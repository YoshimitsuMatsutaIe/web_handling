{
 "cells": [
  {
   "cell_type": "markdown",
   "metadata": {},
   "source": [
    "入門ウェブハンドリングp176\n",
    "\n",
    "$$\n",
    "\\sigma_r\n",
    "$$"
   ]
  },
  {
   "cell_type": "code",
   "execution_count": 18,
   "metadata": {},
   "outputs": [],
   "source": [
    "import numpy as np\n",
    "import matplotlib.pyplot as plt\n",
    "from scipy.integrate import solve_ivp\n",
    "from numba import njit"
   ]
  },
  {
   "cell_type": "code",
   "execution_count": 19,
   "metadata": {},
   "outputs": [],
   "source": [
    "\"\"\"パラメータ\"\"\"\n",
    "R_C = 50  # コア半径 [mm]\n",
    "R_CIN = 40  # コア内径 [mm]\n",
    "E_CIN = 1  # コアヤング率\n",
    "NU_C = 1\n",
    "\n",
    "N = 30000  # 巻数\n",
    "NU = 1  # 半径方向ポアソン比\n",
    "#T = 0.002  # シート厚み[mm]\n",
    "\n",
    "# ポリプロピレン\n",
    "K1 = 0.1e-3  # [GPa]\n",
    "K2 = 260.0e-3  # [GPa]\n",
    "T = 25.4e-3 # ウェブ厚み[mm]\n",
    "E_THETA = 1.65  # 接線方向ヤング率[GPa]\n",
    "\n",
    "E_C = E_CIN / (((R_C/R_CIN)**2+1) / ((R_C/R_CIN)**2-1) - NU_C)\n",
    "\n",
    "\n",
    "T = 100 # 巻取り張力[N]\n",
    "\n",
    "r = np.linspace(R_C, R_C+T*N, N)  # 半径リスト"
   ]
  },
  {
   "cell_type": "code",
   "execution_count": 23,
   "metadata": {},
   "outputs": [],
   "source": [
    "#@njit\n",
    "def main():\n",
    "    sigma_r = np.zeros(N)\n",
    "    a = np.zeros(N)\n",
    "    b = np.zeros(N)\n",
    "    c = np.zeros(N)\n",
    "    g = np.zeros(N)\n",
    "    sigma_r_total = 0\n",
    "    \n",
    "    a = 1 + (3-NU) * T / (2 * r)\n",
    "    c = 1 - (3-NU)/2 * T/r\n",
    "    \n",
    "    for n in range(N):\n",
    "        sigma_r_total = 0\n",
    "        if n == 0:\n",
    "            a0 = 1\n",
    "            b0 = (1 - E_THETA/E_C - NU) * T / R_C - 1\n",
    "            sigma_r_1 = - T / (R_C + T)\n",
    "            sigma_r_0 = - (b0 / a0) * sigma_r_1\n",
    "            _sigma_r = sigma_r_0 + sigma_r_1\n",
    "            e_r = K2 * (_sigma_r + K2)\n",
    "            g[1] = np.sqrt(E_THETA / e_r)\n",
    "        else:\n",
    "            A = np.zeros((n, n))\n",
    "            B = np.zeros((n, 1))\n",
    "            \n",
    "            for i in range(n):\n",
    "                sigma_r_total += sigma_r[i]\n",
    "                _e_r = K2 * (sigma_r_total + K2)\n",
    "                _gg = E_THETA / _e_r\n",
    "                b[i] = (1 + NU - _gg) * (T/r[i])**2 - 2\n",
    "            \n",
    "            for i in range(n):\n",
    "                for j in range(n):\n",
    "                    "
   ]
  }
 ],
 "metadata": {
  "kernelspec": {
   "display_name": "Python 3",
   "language": "python",
   "name": "python3"
  },
  "language_info": {
   "codemirror_mode": {
    "name": "ipython",
    "version": 3
   },
   "file_extension": ".py",
   "mimetype": "text/x-python",
   "name": "python",
   "nbconvert_exporter": "python",
   "pygments_lexer": "ipython3",
   "version": "3.11.6"
  }
 },
 "nbformat": 4,
 "nbformat_minor": 2
}
